{
 "cells": [
  {
   "cell_type": "code",
   "execution_count": 2,
   "id": "8fd5ab59-3fca-4384-a6cb-99c00ee25ad3",
   "metadata": {},
   "outputs": [
    {
     "name": "stdout",
     "output_type": "stream",
     "text": [
      "hello world\n"
     ]
    }
   ],
   "source": [
    "print(\"hello world\")"
   ]
  },
  {
   "cell_type": "code",
   "execution_count": 1,
   "id": "5a50b1bf-4dbc-4502-b6bc-f6fac0b8c125",
   "metadata": {},
   "outputs": [],
   "source": [
    "a=\"my shcool name is something\""
   ]
  },
  {
   "cell_type": "code",
   "execution_count": 3,
   "id": "32ec36cd-d8a1-4c30-ba8d-6c1818d33510",
   "metadata": {},
   "outputs": [
    {
     "data": {
      "text/plain": [
       "'my shcool name is something'"
      ]
     },
     "execution_count": 3,
     "metadata": {},
     "output_type": "execute_result"
    }
   ],
   "source": [
    "a[0:]"
   ]
  },
  {
   "cell_type": "code",
   "execution_count": 4,
   "id": "cd4d022c-fdc7-414f-bdab-cb97d7adfe42",
   "metadata": {},
   "outputs": [
    {
     "data": {
      "text/plain": [
       "'my shcool name is something'"
      ]
     },
     "execution_count": 4,
     "metadata": {},
     "output_type": "execute_result"
    }
   ],
   "source": [
    "a[0:300]"
   ]
  },
  {
   "cell_type": "code",
   "execution_count": 6,
   "id": "3b73e473-c4d4-4999-8382-c6bfe969190e",
   "metadata": {},
   "outputs": [
    {
     "data": {
      "text/plain": [
       "'my shcool name is something'"
      ]
     },
     "execution_count": 6,
     "metadata": {},
     "output_type": "execute_result"
    }
   ],
   "source": [
    "a[:300]"
   ]
  },
  {
   "cell_type": "code",
   "execution_count": 7,
   "id": "99763f0c-fcbc-4611-aee8-117d1a446f0b",
   "metadata": {},
   "outputs": [
    {
     "ename": "IndexError",
     "evalue": "string index out of range",
     "output_type": "error",
     "traceback": [
      "\u001b[1;31m---------------------------------------------------------------------------\u001b[0m",
      "\u001b[1;31mIndexError\u001b[0m                                Traceback (most recent call last)",
      "Cell \u001b[1;32mIn[7], line 1\u001b[0m\n\u001b[1;32m----> 1\u001b[0m \u001b[43ma\u001b[49m\u001b[43m[\u001b[49m\u001b[38;5;241;43m-\u001b[39;49m\u001b[38;5;241;43m100\u001b[39;49m\u001b[43m]\u001b[49m\n",
      "\u001b[1;31mIndexError\u001b[0m: string index out of range"
     ]
    }
   ],
   "source": [
    "a[-100]"
   ]
  },
  {
   "cell_type": "code",
   "execution_count": 1,
   "id": "c04c2801-3ea8-4896-bfa6-de17487aef81",
   "metadata": {},
   "outputs": [
    {
     "ename": "NameError",
     "evalue": "name 'a' is not defined",
     "output_type": "error",
     "traceback": [
      "\u001b[1;31m---------------------------------------------------------------------------\u001b[0m",
      "\u001b[1;31mNameError\u001b[0m                                 Traceback (most recent call last)",
      "Cell \u001b[1;32mIn[1], line 1\u001b[0m\n\u001b[1;32m----> 1\u001b[0m \u001b[43ma\u001b[49m[:\u001b[38;5;241m-\u001b[39m\u001b[38;5;241m100\u001b[39m]\n",
      "\u001b[1;31mNameError\u001b[0m: name 'a' is not defined"
     ]
    }
   ],
   "source": [
    "a[:-100]"
   ]
  },
  {
   "cell_type": "code",
   "execution_count": 2,
   "id": "67a29122-4f01-40ad-8980-d16e7eb9083b",
   "metadata": {},
   "outputs": [],
   "source": [
    "a=\"abcdefghijklmo\""
   ]
  },
  {
   "cell_type": "code",
   "execution_count": 3,
   "id": "f451daee-c5db-4264-9726-b9ae96f48ede",
   "metadata": {},
   "outputs": [
    {
     "data": {
      "text/plain": [
       "'abcdefghijklmo'"
      ]
     },
     "execution_count": 3,
     "metadata": {},
     "output_type": "execute_result"
    }
   ],
   "source": [
    "a[:]"
   ]
  },
  {
   "cell_type": "code",
   "execution_count": 4,
   "id": "af7efd8c-0769-4788-85c4-99539429e276",
   "metadata": {},
   "outputs": [
    {
     "data": {
      "text/plain": [
       "'oml'"
      ]
     },
     "execution_count": 4,
     "metadata": {},
     "output_type": "execute_result"
    }
   ],
   "source": [
    "a[-1:-4:-1]"
   ]
  },
  {
   "cell_type": "code",
   "execution_count": 5,
   "id": "a295f64e-efb2-43d6-b77a-eed5e897988f",
   "metadata": {},
   "outputs": [
    {
     "data": {
      "text/plain": [
       "''"
      ]
     },
     "execution_count": 5,
     "metadata": {},
     "output_type": "execute_result"
    }
   ],
   "source": [
    "a[-1:-4]"
   ]
  },
  {
   "cell_type": "code",
   "execution_count": 7,
   "id": "8d589ebc-1d00-4bb6-93de-dac5f960be4f",
   "metadata": {},
   "outputs": [
    {
     "data": {
      "text/plain": [
       "'a'"
      ]
     },
     "execution_count": 7,
     "metadata": {},
     "output_type": "execute_result"
    }
   ],
   "source": [
    "a[0:-100:-1]"
   ]
  },
  {
   "cell_type": "code",
   "execution_count": 9,
   "id": "29a169c8-96b7-4d50-b50f-8f5bd485bfb5",
   "metadata": {},
   "outputs": [
    {
     "data": {
      "text/plain": [
       "'omlkjihgfedcba'"
      ]
     },
     "execution_count": 9,
     "metadata": {},
     "output_type": "execute_result"
    }
   ],
   "source": [
    "a[::-1]"
   ]
  },
  {
   "cell_type": "code",
   "execution_count": 10,
   "id": "987e00fd-64f0-4871-859c-ca33d5009837",
   "metadata": {},
   "outputs": [
    {
     "data": {
      "text/plain": [
       "'abcdefghijklmo'"
      ]
     },
     "execution_count": 10,
     "metadata": {},
     "output_type": "execute_result"
    }
   ],
   "source": [
    "a"
   ]
  },
  {
   "cell_type": "code",
   "execution_count": 13,
   "id": "ec83c453-d47e-409e-baa6-877f4c5f9efa",
   "metadata": {},
   "outputs": [
    {
     "data": {
      "text/plain": [
       "'ABCDEFGHIJKLMO'"
      ]
     },
     "execution_count": 13,
     "metadata": {},
     "output_type": "execute_result"
    }
   ],
   "source": [
    "a.upper()"
   ]
  },
  {
   "cell_type": "code",
   "execution_count": 14,
   "id": "449db29c-3491-4add-ba79-e610f5f7c6de",
   "metadata": {},
   "outputs": [
    {
     "data": {
      "text/plain": [
       "'abcdefghijklmo'"
      ]
     },
     "execution_count": 14,
     "metadata": {},
     "output_type": "execute_result"
    }
   ],
   "source": [
    "a.casefold()"
   ]
  },
  {
   "cell_type": "code",
   "execution_count": 16,
   "id": "7ed6d45a-8057-4879-9cf5-bd099ca55810",
   "metadata": {},
   "outputs": [
    {
     "data": {
      "text/plain": [
       "list"
      ]
     },
     "execution_count": 16,
     "metadata": {},
     "output_type": "execute_result"
    }
   ],
   "source": [
    "type(a.split())"
   ]
  },
  {
   "cell_type": "code",
   "execution_count": 20,
   "id": "ff70eeb4-f2b9-4a7d-82c0-d62149b1b15d",
   "metadata": {},
   "outputs": [
    {
     "ename": "TypeError",
     "evalue": "'builtin_function_or_method' object is not subscriptable",
     "output_type": "error",
     "traceback": [
      "\u001b[1;31m---------------------------------------------------------------------------\u001b[0m",
      "\u001b[1;31mTypeError\u001b[0m                                 Traceback (most recent call last)",
      "Cell \u001b[1;32mIn[20], line 1\u001b[0m\n\u001b[1;32m----> 1\u001b[0m \u001b[43ma\u001b[49m\u001b[38;5;241;43m.\u001b[39;49m\u001b[43mupper\u001b[49m\u001b[43m[\u001b[49m\u001b[43m:\u001b[49m\u001b[43m:\u001b[49m\u001b[38;5;241;43m2\u001b[39;49m\u001b[43m]\u001b[49m\n",
      "\u001b[1;31mTypeError\u001b[0m: 'builtin_function_or_method' object is not subscriptable"
     ]
    }
   ],
   "source": [
    "a.upper[::2]"
   ]
  },
  {
   "cell_type": "code",
   "execution_count": 21,
   "id": "b4bb23cf-884b-4f82-b9d9-838464cba7c6",
   "metadata": {},
   "outputs": [],
   "source": [
    "a=\"my name is eshwar iam from presidency university\""
   ]
  },
  {
   "cell_type": "code",
   "execution_count": 22,
   "id": "f54984a7-80ae-4619-a1b3-e019f9ded6d3",
   "metadata": {},
   "outputs": [
    {
     "data": {
      "text/plain": [
       "'my name is eshwar iam from presidency university'"
      ]
     },
     "execution_count": 22,
     "metadata": {},
     "output_type": "execute_result"
    }
   ],
   "source": [
    "a"
   ]
  },
  {
   "cell_type": "code",
   "execution_count": 23,
   "id": "f6951c91-4159-4e59-9b33-7781b33ab5e1",
   "metadata": {},
   "outputs": [
    {
     "data": {
      "text/plain": [
       "['my', 'name', 'is', 'eshwar', 'iam', 'from', 'presidency', 'university']"
      ]
     },
     "execution_count": 23,
     "metadata": {},
     "output_type": "execute_result"
    }
   ],
   "source": [
    "a.split()"
   ]
  },
  {
   "cell_type": "code",
   "execution_count": 24,
   "id": "08da1430-b18b-4dfb-aea1-0003c40d052a",
   "metadata": {},
   "outputs": [
    {
     "data": {
      "text/plain": [
       "['my name ', 's eshwar ', 'am from pres', 'dency un', 'vers', 'ty']"
      ]
     },
     "execution_count": 24,
     "metadata": {},
     "output_type": "execute_result"
    }
   ],
   "source": [
    "a.split('i')"
   ]
  },
  {
   "cell_type": "code",
   "execution_count": 25,
   "id": "de463b32-9c97-4a27-a08c-01fd4dc95b49",
   "metadata": {},
   "outputs": [
    {
     "data": {
      "text/plain": [
       "'My Name Is Eshwar Iam From Presidency University'"
      ]
     },
     "execution_count": 25,
     "metadata": {},
     "output_type": "execute_result"
    }
   ],
   "source": [
    "a.title()"
   ]
  },
  {
   "cell_type": "code",
   "execution_count": 26,
   "id": "85a97199-99b6-4bb5-9a35-a29323a0e135",
   "metadata": {},
   "outputs": [
    {
     "data": {
      "text/plain": [
       "'MY NAME IS ESHWAR IAM FROM PRESIDENCY UNIVERSITY'"
      ]
     },
     "execution_count": 26,
     "metadata": {},
     "output_type": "execute_result"
    }
   ],
   "source": [
    "a.swapcase()"
   ]
  },
  {
   "cell_type": "code",
   "execution_count": 27,
   "id": "991353fa-4665-4419-91d9-fa4a258301fa",
   "metadata": {},
   "outputs": [
    {
     "data": {
      "text/plain": [
       "4"
      ]
     },
     "execution_count": 27,
     "metadata": {},
     "output_type": "execute_result"
    }
   ],
   "source": [
    "a.find('a')"
   ]
  },
  {
   "cell_type": "code",
   "execution_count": 28,
   "id": "9dcc437e-c334-4870-b1a1-c734892f3675",
   "metadata": {},
   "outputs": [
    {
     "data": {
      "text/plain": [
       "'my name is eshwar iam from presidency university'"
      ]
     },
     "execution_count": 28,
     "metadata": {},
     "output_type": "execute_result"
    }
   ],
   "source": [
    "a.casefold()"
   ]
  },
  {
   "cell_type": "code",
   "execution_count": 35,
   "id": "1c289fd1-e659-471d-b4cd-3ad293411508",
   "metadata": {},
   "outputs": [],
   "source": [
    "l=[\"eshwar\", 456, 456.258, 4+6j, True]"
   ]
  },
  {
   "cell_type": "code",
   "execution_count": 36,
   "id": "5fec0227-5215-46fb-8a06-cc02ff4d46c6",
   "metadata": {},
   "outputs": [
    {
     "data": {
      "text/plain": [
       "True"
      ]
     },
     "execution_count": 36,
     "metadata": {},
     "output_type": "execute_result"
    }
   ],
   "source": [
    "l[4]"
   ]
  },
  {
   "cell_type": "code",
   "execution_count": 37,
   "id": "3a389023-a490-4e60-85e1-87b88c47e08f",
   "metadata": {},
   "outputs": [
    {
     "data": {
      "text/plain": [
       "True"
      ]
     },
     "execution_count": 37,
     "metadata": {},
     "output_type": "execute_result"
    }
   ],
   "source": [
    "l[-1]"
   ]
  },
  {
   "cell_type": "code",
   "execution_count": 38,
   "id": "bd7c57e5-fc10-4a3f-a8d5-5260170b0f6a",
   "metadata": {},
   "outputs": [
    {
     "data": {
      "text/plain": [
       "['eshwar', 456, 456.258, (4+6j)]"
      ]
     },
     "execution_count": 38,
     "metadata": {},
     "output_type": "execute_result"
    }
   ],
   "source": [
    "l[:4]"
   ]
  },
  {
   "cell_type": "code",
   "execution_count": 39,
   "id": "1a6feeb6-5f60-406b-9fa1-2b5dbb521e27",
   "metadata": {},
   "outputs": [
    {
     "data": {
      "text/plain": [
       "[True, (4+6j), 456.258, 456, 'eshwar']"
      ]
     },
     "execution_count": 39,
     "metadata": {},
     "output_type": "execute_result"
    }
   ],
   "source": [
    "l[::-1]"
   ]
  },
  {
   "cell_type": "code",
   "execution_count": 40,
   "id": "074abec0-791f-4e16-b243-e9b07606f75f",
   "metadata": {},
   "outputs": [
    {
     "data": {
      "text/plain": [
       "[True]"
      ]
     },
     "execution_count": 40,
     "metadata": {},
     "output_type": "execute_result"
    }
   ],
   "source": [
    "l[-1:6]"
   ]
  },
  {
   "cell_type": "code",
   "execution_count": 42,
   "id": "8e22e16e-a35b-47ae-94ab-a8bbd7c49e75",
   "metadata": {},
   "outputs": [
    {
     "data": {
      "text/plain": [
       "['eshwar', 456, 456.258, (4+6j), True]"
      ]
     },
     "execution_count": 42,
     "metadata": {},
     "output_type": "execute_result"
    }
   ],
   "source": [
    "l"
   ]
  },
  {
   "cell_type": "code",
   "execution_count": 43,
   "id": "9b4882c9-bf42-4860-a535-e9262cb767c7",
   "metadata": {},
   "outputs": [
    {
     "data": {
      "text/plain": [
       "'eshwar'"
      ]
     },
     "execution_count": 43,
     "metadata": {},
     "output_type": "execute_result"
    }
   ],
   "source": [
    "l[0]"
   ]
  },
  {
   "cell_type": "code",
   "execution_count": 44,
   "id": "033b87e4-45b5-4811-88f9-63d995fe3196",
   "metadata": {},
   "outputs": [
    {
     "data": {
      "text/plain": [
       "str"
      ]
     },
     "execution_count": 44,
     "metadata": {},
     "output_type": "execute_result"
    }
   ],
   "source": [
    "type(l[0])"
   ]
  },
  {
   "cell_type": "code",
   "execution_count": 45,
   "id": "a45a3609-12df-43c9-9123-1a82d2d140c7",
   "metadata": {},
   "outputs": [
    {
     "data": {
      "text/plain": [
       "'s'"
      ]
     },
     "execution_count": 45,
     "metadata": {},
     "output_type": "execute_result"
    }
   ],
   "source": [
    "l[0][1]"
   ]
  },
  {
   "cell_type": "code",
   "execution_count": 46,
   "id": "27b74e83-23f3-4c60-bf19-071661da2ead",
   "metadata": {},
   "outputs": [
    {
     "data": {
      "text/plain": [
       "(4+6j)"
      ]
     },
     "execution_count": 46,
     "metadata": {},
     "output_type": "execute_result"
    }
   ],
   "source": [
    "l[3]"
   ]
  },
  {
   "cell_type": "code",
   "execution_count": 48,
   "id": "5d0a4a42-23ad-4227-ac7a-07efbf7f95d0",
   "metadata": {},
   "outputs": [
    {
     "data": {
      "text/plain": [
       "4.0"
      ]
     },
     "execution_count": 48,
     "metadata": {},
     "output_type": "execute_result"
    }
   ],
   "source": [
    "l[3].real"
   ]
  },
  {
   "cell_type": "code",
   "execution_count": 53,
   "id": "0142da23-0ef6-4195-8495-ad9ac4e9aa09",
   "metadata": {},
   "outputs": [],
   "source": [
    "l1=[\"eshear\", \"raju\", 875]\n",
    "l2=[\"abc\", \"pqr\", 456.45]"
   ]
  },
  {
   "cell_type": "code",
   "execution_count": 54,
   "id": "231913ff-2cfa-446b-a4d8-d5af3346c563",
   "metadata": {},
   "outputs": [
    {
     "data": {
      "text/plain": [
       "['eshear', 'raju', 875, 'abc', 'pqr', 456.45]"
      ]
     },
     "execution_count": 54,
     "metadata": {},
     "output_type": "execute_result"
    }
   ],
   "source": [
    "l1+l2"
   ]
  },
  {
   "cell_type": "code",
   "execution_count": 57,
   "id": "3ae1c19b-f7d1-431f-afd6-a6ec754e4b69",
   "metadata": {},
   "outputs": [
    {
     "data": {
      "text/plain": [
       "['eshear', 'raju', 875, 'sudh']"
      ]
     },
     "execution_count": 57,
     "metadata": {},
     "output_type": "execute_result"
    }
   ],
   "source": [
    "l1+ [\"sudh\"]"
   ]
  },
  {
   "cell_type": "code",
   "execution_count": 59,
   "id": "4cca0ae8-46d9-461c-9d89-62beb7b257f9",
   "metadata": {},
   "outputs": [
    {
     "data": {
      "text/plain": [
       "['eshear', 'raju', 875, 'eshear', 'raju', 875, 'eshear', 'raju', 875]"
      ]
     },
     "execution_count": 59,
     "metadata": {},
     "output_type": "execute_result"
    }
   ],
   "source": [
    "l1*3"
   ]
  },
  {
   "cell_type": "code",
   "execution_count": 60,
   "id": "49cb2fe7-4f1c-4250-b842-d980be077f87",
   "metadata": {},
   "outputs": [
    {
     "data": {
      "text/plain": [
       "['eshear', 'raju', 875]"
      ]
     },
     "execution_count": 60,
     "metadata": {},
     "output_type": "execute_result"
    }
   ],
   "source": [
    "l1"
   ]
  },
  {
   "cell_type": "code",
   "execution_count": 61,
   "id": "8491f75c-8991-422a-8def-878f2472e082",
   "metadata": {},
   "outputs": [],
   "source": [
    "l1[0]=\"dude\""
   ]
  },
  {
   "cell_type": "code",
   "execution_count": 62,
   "id": "5f46810d-8e34-40e4-9cf5-d4df6a171774",
   "metadata": {},
   "outputs": [
    {
     "data": {
      "text/plain": [
       "['dude', 'raju', 875]"
      ]
     },
     "execution_count": 62,
     "metadata": {},
     "output_type": "execute_result"
    }
   ],
   "source": [
    "l1"
   ]
  },
  {
   "cell_type": "code",
   "execution_count": 63,
   "id": "5a1b6f14-c79a-4f00-abb3-3ea4307e1e6a",
   "metadata": {},
   "outputs": [
    {
     "data": {
      "text/plain": [
       "'raju'"
      ]
     },
     "execution_count": 63,
     "metadata": {},
     "output_type": "execute_result"
    }
   ],
   "source": [
    "l1[1]"
   ]
  },
  {
   "cell_type": "code",
   "execution_count": 67,
   "id": "1a9a7909-1557-4d28-9c5d-886e7e47ec98",
   "metadata": {},
   "outputs": [],
   "source": [
    "l1[1]='m'"
   ]
  },
  {
   "cell_type": "code",
   "execution_count": 68,
   "id": "b7830b52-6393-401c-b361-8c483a65da8f",
   "metadata": {},
   "outputs": [
    {
     "data": {
      "text/plain": [
       "3"
      ]
     },
     "execution_count": 68,
     "metadata": {},
     "output_type": "execute_result"
    }
   ],
   "source": [
    "len(l1)"
   ]
  },
  {
   "cell_type": "code",
   "execution_count": 69,
   "id": "3023587e-231e-4de4-a1a0-0ce204b27a6a",
   "metadata": {},
   "outputs": [
    {
     "data": {
      "text/plain": [
       "False"
      ]
     },
     "execution_count": 69,
     "metadata": {},
     "output_type": "execute_result"
    }
   ],
   "source": [
    "\"eshwar\" in l1"
   ]
  },
  {
   "cell_type": "code",
   "execution_count": 70,
   "id": "a4d37ab5-ee42-4195-a2de-a6722e67ba2b",
   "metadata": {},
   "outputs": [
    {
     "data": {
      "text/plain": [
       "['dude', 'm', 875]"
      ]
     },
     "execution_count": 70,
     "metadata": {},
     "output_type": "execute_result"
    }
   ],
   "source": [
    "l1"
   ]
  },
  {
   "cell_type": "code",
   "execution_count": 71,
   "id": "04240f77-723e-4ea9-bd84-e92c82dfb69c",
   "metadata": {},
   "outputs": [],
   "source": [
    "l2.append(\"eshwar\")"
   ]
  },
  {
   "cell_type": "code",
   "execution_count": 72,
   "id": "45cb427f-c3b9-48b2-b791-5e23f6b341c7",
   "metadata": {},
   "outputs": [
    {
     "data": {
      "text/plain": [
       "['abc', 'pqr', 456.45, 'eshwar']"
      ]
     },
     "execution_count": 72,
     "metadata": {},
     "output_type": "execute_result"
    }
   ],
   "source": [
    "l2"
   ]
  },
  {
   "cell_type": "code",
   "execution_count": 73,
   "id": "8dd0a426-b4a5-4555-8e3c-850025b41f9a",
   "metadata": {},
   "outputs": [
    {
     "data": {
      "text/plain": [
       "'eshwar'"
      ]
     },
     "execution_count": 73,
     "metadata": {},
     "output_type": "execute_result"
    }
   ],
   "source": [
    "l2.pop()"
   ]
  },
  {
   "cell_type": "code",
   "execution_count": 74,
   "id": "35d8f4af-e9b1-49f0-9d74-e8bd2d87749a",
   "metadata": {},
   "outputs": [
    {
     "data": {
      "text/plain": [
       "['abc', 'pqr', 456.45]"
      ]
     },
     "execution_count": 74,
     "metadata": {},
     "output_type": "execute_result"
    }
   ],
   "source": [
    "l2"
   ]
  },
  {
   "cell_type": "code",
   "execution_count": 75,
   "id": "f9fb70f3-9dc8-4f41-931c-9b8078b86e4d",
   "metadata": {},
   "outputs": [
    {
     "data": {
      "text/plain": [
       "456.45"
      ]
     },
     "execution_count": 75,
     "metadata": {},
     "output_type": "execute_result"
    }
   ],
   "source": [
    "l2.pop(2)"
   ]
  },
  {
   "cell_type": "code",
   "execution_count": 76,
   "id": "65f5e006-98c8-4e1b-b1c9-3f02773b9eb6",
   "metadata": {},
   "outputs": [
    {
     "data": {
      "text/plain": [
       "['abc', 'pqr']"
      ]
     },
     "execution_count": 76,
     "metadata": {},
     "output_type": "execute_result"
    }
   ],
   "source": [
    "l2"
   ]
  },
  {
   "cell_type": "code",
   "execution_count": 77,
   "id": "d1da7011-865a-4a17-9591-3f43519487a6",
   "metadata": {},
   "outputs": [],
   "source": [
    "l2.append(\"eshwar\")"
   ]
  },
  {
   "cell_type": "code",
   "execution_count": 78,
   "id": "9867ab02-f52b-4a1d-b816-0fe50e1f1724",
   "metadata": {},
   "outputs": [
    {
     "data": {
      "text/plain": [
       "['abc', 'pqr', 'eshwar']"
      ]
     },
     "execution_count": 78,
     "metadata": {},
     "output_type": "execute_result"
    }
   ],
   "source": [
    "l2"
   ]
  },
  {
   "cell_type": "code",
   "execution_count": 79,
   "id": "b9c93adf-e880-4028-93b5-6775a40d2bbc",
   "metadata": {},
   "outputs": [],
   "source": [
    "l2.insert(0,\"eshwar\")"
   ]
  },
  {
   "cell_type": "code",
   "execution_count": 80,
   "id": "03b02802-9721-4525-9d22-32b5a64ebc4d",
   "metadata": {},
   "outputs": [
    {
     "data": {
      "text/plain": [
       "['eshwar', 'abc', 'pqr', 'eshwar']"
      ]
     },
     "execution_count": 80,
     "metadata": {},
     "output_type": "execute_result"
    }
   ],
   "source": [
    "l2"
   ]
  },
  {
   "cell_type": "code",
   "execution_count": 82,
   "id": "70170c8a-d8e8-4bc3-a994-b7b21df8b1d6",
   "metadata": {},
   "outputs": [],
   "source": [
    "l2.reverse()"
   ]
  },
  {
   "cell_type": "code",
   "execution_count": 84,
   "id": "d10efc75-68fd-4a23-93ed-ede515b78a1f",
   "metadata": {},
   "outputs": [
    {
     "data": {
      "text/plain": [
       "['eshwar', 'pqr', 'abc', 'eshwar']"
      ]
     },
     "execution_count": 84,
     "metadata": {},
     "output_type": "execute_result"
    }
   ],
   "source": [
    "l2"
   ]
  },
  {
   "cell_type": "code",
   "execution_count": 85,
   "id": "ed12bebd-8158-4428-a658-a76a4b5534bb",
   "metadata": {},
   "outputs": [],
   "source": [
    "l2.insert(2,[45,45,4,55])"
   ]
  },
  {
   "cell_type": "code",
   "execution_count": 86,
   "id": "a07eb621-b0c7-47c4-9a2e-ad50a4d7c828",
   "metadata": {},
   "outputs": [
    {
     "data": {
      "text/plain": [
       "['eshwar', 'pqr', [45, 45, 4, 55], 'abc', 'eshwar']"
      ]
     },
     "execution_count": 86,
     "metadata": {},
     "output_type": "execute_result"
    }
   ],
   "source": [
    "l2"
   ]
  },
  {
   "cell_type": "code",
   "execution_count": 87,
   "id": "5ed31124-9a89-464f-b75d-36a5bd8fb023",
   "metadata": {},
   "outputs": [
    {
     "data": {
      "text/plain": [
       "['dude', 'm', 875]"
      ]
     },
     "execution_count": 87,
     "metadata": {},
     "output_type": "execute_result"
    }
   ],
   "source": [
    "l1"
   ]
  },
  {
   "cell_type": "code",
   "execution_count": 88,
   "id": "f4dad8bd-6e95-4242-ac9c-62c611256fe1",
   "metadata": {},
   "outputs": [
    {
     "data": {
      "text/plain": [
       "['eshwar', 'pqr', [45, 45, 4, 55], 'abc', 'eshwar']"
      ]
     },
     "execution_count": 88,
     "metadata": {},
     "output_type": "execute_result"
    }
   ],
   "source": [
    "l2"
   ]
  },
  {
   "cell_type": "code",
   "execution_count": 89,
   "id": "409ba9c9-4463-485b-a7d0-26e967ec36b1",
   "metadata": {},
   "outputs": [
    {
     "data": {
      "text/plain": [
       "[45, 45, 4, 55]"
      ]
     },
     "execution_count": 89,
     "metadata": {},
     "output_type": "execute_result"
    }
   ],
   "source": [
    "l2[2]"
   ]
  },
  {
   "cell_type": "code",
   "execution_count": 91,
   "id": "43a16be5-9386-4567-b43d-11b75ba274a2",
   "metadata": {},
   "outputs": [
    {
     "data": {
      "text/plain": [
       "45"
      ]
     },
     "execution_count": 91,
     "metadata": {},
     "output_type": "execute_result"
    }
   ],
   "source": [
    "l2[2][1]"
   ]
  },
  {
   "cell_type": "code",
   "execution_count": 92,
   "id": "82e3a7f6-b698-4c16-8d88-d8d62cf8563b",
   "metadata": {},
   "outputs": [
    {
     "data": {
      "text/plain": [
       "['eshwar', 'pqr', [45, 45, 4, 55], 'abc', 'eshwar']"
      ]
     },
     "execution_count": 92,
     "metadata": {},
     "output_type": "execute_result"
    }
   ],
   "source": [
    "l2"
   ]
  },
  {
   "cell_type": "code",
   "execution_count": 95,
   "id": "22078a56-a3de-474e-a618-e92258b0b80f",
   "metadata": {},
   "outputs": [
    {
     "data": {
      "text/plain": [
       "1"
      ]
     },
     "execution_count": 95,
     "metadata": {},
     "output_type": "execute_result"
    }
   ],
   "source": [
    "l2.count('abc')"
   ]
  },
  {
   "cell_type": "code",
   "execution_count": 2,
   "id": "908ecbbd-f59f-4ba5-8a8a-e91ce5b1bd64",
   "metadata": {},
   "outputs": [
    {
     "data": {
      "text/plain": [
       "['e', 's', 'h', 'w', 'a', 'r']"
      ]
     },
     "execution_count": 2,
     "metadata": {},
     "output_type": "execute_result"
    }
   ],
   "source": [
    "list(\"eshwar\")"
   ]
  },
  {
   "cell_type": "code",
   "execution_count": 1,
   "id": "b5951d54-7830-4917-a7f8-b55df8a98d10",
   "metadata": {},
   "outputs": [],
   "source": [
    "t=(1,2,3,4,5)"
   ]
  },
  {
   "cell_type": "code",
   "execution_count": 2,
   "id": "46a41785-a071-4656-abc8-9ae649a16243",
   "metadata": {},
   "outputs": [
    {
     "data": {
      "text/plain": [
       "tuple"
      ]
     },
     "execution_count": 2,
     "metadata": {},
     "output_type": "execute_result"
    }
   ],
   "source": [
    "type(t)"
   ]
  },
  {
   "cell_type": "code",
   "execution_count": 4,
   "id": "aeaa64bf-de6f-4901-aa23-730626d5641a",
   "metadata": {},
   "outputs": [],
   "source": [
    "s=(1,2,1,3,2)"
   ]
  },
  {
   "cell_type": "code",
   "execution_count": 6,
   "id": "b37b2a89-7ab9-46ca-b76d-e4d041c3eb68",
   "metadata": {},
   "outputs": [
    {
     "data": {
      "text/plain": [
       "tuple"
      ]
     },
     "execution_count": 6,
     "metadata": {},
     "output_type": "execute_result"
    }
   ],
   "source": [
    "type(s)"
   ]
  },
  {
   "cell_type": "code",
   "execution_count": 7,
   "id": "34e0d358-2878-46ea-b5db-7e7778582990",
   "metadata": {},
   "outputs": [],
   "source": [
    "l=[1,2,4,5]"
   ]
  },
  {
   "cell_type": "code",
   "execution_count": 8,
   "id": "4e6c5887-ccae-455a-98cf-a11ff02edc20",
   "metadata": {},
   "outputs": [
    {
     "data": {
      "text/plain": [
       "list"
      ]
     },
     "execution_count": 8,
     "metadata": {},
     "output_type": "execute_result"
    }
   ],
   "source": [
    "type(l)"
   ]
  },
  {
   "cell_type": "code",
   "execution_count": 11,
   "id": "0f81295e-c396-498e-ae7f-c0338f339d80",
   "metadata": {},
   "outputs": [],
   "source": [
    "t=(1,2,3,4,5)"
   ]
  },
  {
   "cell_type": "code",
   "execution_count": 12,
   "id": "d8502992-7476-4ca4-8632-eeebdc4655ac",
   "metadata": {},
   "outputs": [
    {
     "data": {
      "text/plain": [
       "tuple"
      ]
     },
     "execution_count": 12,
     "metadata": {},
     "output_type": "execute_result"
    }
   ],
   "source": [
    "type(t)"
   ]
  },
  {
   "cell_type": "code",
   "execution_count": 13,
   "id": "c1344eb9-f740-4645-b0b1-d6ff7b339837",
   "metadata": {},
   "outputs": [],
   "source": [
    "t=(\"eshwar\",45.52,45,45.6j,True)\n"
   ]
  },
  {
   "cell_type": "code",
   "execution_count": 14,
   "id": "069f1892-1f0c-4957-87e7-deb0c2e886c1",
   "metadata": {},
   "outputs": [],
   "source": [
    "l=[\"eshwar\",45.52,45,45.6j,True]"
   ]
  },
  {
   "cell_type": "code",
   "execution_count": 15,
   "id": "9ef752f5-4de6-4e8f-9aa8-3573f8e5024a",
   "metadata": {},
   "outputs": [
    {
     "data": {
      "text/plain": [
       "tuple"
      ]
     },
     "execution_count": 15,
     "metadata": {},
     "output_type": "execute_result"
    }
   ],
   "source": [
    "type(t)"
   ]
  },
  {
   "cell_type": "code",
   "execution_count": 16,
   "id": "bd4ebacb-fc64-4ceb-a441-a9476c1295f3",
   "metadata": {},
   "outputs": [
    {
     "data": {
      "text/plain": [
       "list"
      ]
     },
     "execution_count": 16,
     "metadata": {},
     "output_type": "execute_result"
    }
   ],
   "source": [
    "type(l)"
   ]
  },
  {
   "cell_type": "code",
   "execution_count": 20,
   "id": "890bb605-d288-4ff6-a0d2-16575ade670f",
   "metadata": {},
   "outputs": [
    {
     "data": {
      "text/plain": [
       "[True, 45.6j, 45, 45.52, 'eshwar']"
      ]
     },
     "execution_count": 20,
     "metadata": {},
     "output_type": "execute_result"
    }
   ],
   "source": [
    "l[::-1]"
   ]
  },
  {
   "cell_type": "code",
   "execution_count": 21,
   "id": "e6ab0a87-52ba-4d57-a765-6ba7dce73c3e",
   "metadata": {},
   "outputs": [
    {
     "data": {
      "text/plain": [
       "(True, 45.6j, 45, 45.52, 'eshwar')"
      ]
     },
     "execution_count": 21,
     "metadata": {},
     "output_type": "execute_result"
    }
   ],
   "source": [
    "t[::-1]"
   ]
  },
  {
   "cell_type": "code",
   "execution_count": 22,
   "id": "33fbf3f3-fa19-48fe-ab8a-9a7c50650019",
   "metadata": {},
   "outputs": [
    {
     "data": {
      "text/plain": [
       "'eshwar'"
      ]
     },
     "execution_count": 22,
     "metadata": {},
     "output_type": "execute_result"
    }
   ],
   "source": [
    "t[0]"
   ]
  },
  {
   "cell_type": "code",
   "execution_count": 23,
   "id": "6d711fe1-d847-4953-9ef0-38e04be30cf7",
   "metadata": {},
   "outputs": [
    {
     "data": {
      "text/plain": [
       "'eshwar'"
      ]
     },
     "execution_count": 23,
     "metadata": {},
     "output_type": "execute_result"
    }
   ],
   "source": [
    "l[0]"
   ]
  },
  {
   "cell_type": "code",
   "execution_count": 24,
   "id": "35ab4d8f-5301-46fc-9e24-492e3599d620",
   "metadata": {},
   "outputs": [],
   "source": [
    "l[0]=\"dude\""
   ]
  },
  {
   "cell_type": "code",
   "execution_count": 25,
   "id": "bb3afc54-deb6-4df4-925e-49ed4503e0a6",
   "metadata": {},
   "outputs": [
    {
     "data": {
      "text/plain": [
       "['dude', 45.52, 45, 45.6j, True]"
      ]
     },
     "execution_count": 25,
     "metadata": {},
     "output_type": "execute_result"
    }
   ],
   "source": [
    "l"
   ]
  },
  {
   "cell_type": "code",
   "execution_count": 26,
   "id": "98c9c076-a314-49cd-9e63-838d1be02d85",
   "metadata": {},
   "outputs": [
    {
     "ename": "TypeError",
     "evalue": "'tuple' object does not support item assignment",
     "output_type": "error",
     "traceback": [
      "\u001b[1;31m---------------------------------------------------------------------------\u001b[0m",
      "\u001b[1;31mTypeError\u001b[0m                                 Traceback (most recent call last)",
      "Cell \u001b[1;32mIn[26], line 1\u001b[0m\n\u001b[1;32m----> 1\u001b[0m \u001b[43mt\u001b[49m\u001b[43m[\u001b[49m\u001b[38;5;241;43m0\u001b[39;49m\u001b[43m]\u001b[49m\u001b[38;5;241m=\u001b[39m\u001b[38;5;124m\"\u001b[39m\u001b[38;5;124mdude\u001b[39m\u001b[38;5;124m\"\u001b[39m\n",
      "\u001b[1;31mTypeError\u001b[0m: 'tuple' object does not support item assignment"
     ]
    }
   ],
   "source": [
    "t[0]=\"dude\""
   ]
  },
  {
   "cell_type": "code",
   "execution_count": 27,
   "id": "ceea47c3-a0b6-4107-b11d-d933749e6c14",
   "metadata": {},
   "outputs": [
    {
     "data": {
      "text/plain": [
       "('eshwar', 45.52, 45, 45.6j, True)"
      ]
     },
     "execution_count": 27,
     "metadata": {},
     "output_type": "execute_result"
    }
   ],
   "source": [
    "t"
   ]
  },
  {
   "cell_type": "code",
   "execution_count": 28,
   "id": "dc029d98-6f99-4864-ad76-2f74ce59647c",
   "metadata": {},
   "outputs": [],
   "source": [
    "t1=(45,55,45,88,78)"
   ]
  },
  {
   "cell_type": "code",
   "execution_count": 29,
   "id": "1a33962d-f36d-46e6-bb11-2c1757b7456b",
   "metadata": {},
   "outputs": [
    {
     "data": {
      "text/plain": [
       "('eshwar', 45.52, 45, 45.6j, True)"
      ]
     },
     "execution_count": 29,
     "metadata": {},
     "output_type": "execute_result"
    }
   ],
   "source": [
    "t"
   ]
  },
  {
   "cell_type": "code",
   "execution_count": 30,
   "id": "ecf3e90c-8532-4433-8f53-b24c46d7d25f",
   "metadata": {},
   "outputs": [
    {
     "data": {
      "text/plain": [
       "(45, 55, 45, 88, 78)"
      ]
     },
     "execution_count": 30,
     "metadata": {},
     "output_type": "execute_result"
    }
   ],
   "source": [
    "t1"
   ]
  },
  {
   "cell_type": "code",
   "execution_count": 31,
   "id": "f98fa55f-0f90-418e-89be-2331564b5333",
   "metadata": {},
   "outputs": [
    {
     "data": {
      "text/plain": [
       "('eshwar', 45.52, 45, 45.6j, True, 45, 55, 45, 88, 78)"
      ]
     },
     "execution_count": 31,
     "metadata": {},
     "output_type": "execute_result"
    }
   ],
   "source": [
    "t+t1"
   ]
  },
  {
   "cell_type": "code",
   "execution_count": 32,
   "id": "ed364eeb-7e9b-4a3a-8bec-4c11aced1389",
   "metadata": {},
   "outputs": [],
   "source": [
    "t=(\"eshwar\",45.52,45,45+6j,True)"
   ]
  },
  {
   "cell_type": "code",
   "execution_count": 33,
   "id": "16ad3d88-a8b8-4a73-b8e3-4bbfb406245f",
   "metadata": {},
   "outputs": [
    {
     "data": {
      "text/plain": [
       "('eshwar', 45.52, 45, (45+6j), True)"
      ]
     },
     "execution_count": 33,
     "metadata": {},
     "output_type": "execute_result"
    }
   ],
   "source": [
    "t"
   ]
  },
  {
   "cell_type": "code",
   "execution_count": 34,
   "id": "9efda77e-a53c-44e3-b033-db51b1db9fbd",
   "metadata": {},
   "outputs": [
    {
     "data": {
      "text/plain": [
       "(45, 55, 45, 88, 78)"
      ]
     },
     "execution_count": 34,
     "metadata": {},
     "output_type": "execute_result"
    }
   ],
   "source": [
    "t1"
   ]
  },
  {
   "cell_type": "code",
   "execution_count": 35,
   "id": "f87ba4c8-a62c-4c07-99bf-35f4b1e4013c",
   "metadata": {},
   "outputs": [
    {
     "data": {
      "text/plain": [
       "('eshwar', 45.52, 45, (45+6j), True, 45, 55, 45, 88, 78)"
      ]
     },
     "execution_count": 35,
     "metadata": {},
     "output_type": "execute_result"
    }
   ],
   "source": [
    "t+t1"
   ]
  },
  {
   "cell_type": "code",
   "execution_count": 36,
   "id": "21c93cf5-3ba4-4542-b7d9-348ade2c1668",
   "metadata": {},
   "outputs": [
    {
     "data": {
      "text/plain": [
       "('eshwar', 45.52, 45, (45+6j), True, 'eshwar', 45.52, 45, (45+6j), True)"
      ]
     },
     "execution_count": 36,
     "metadata": {},
     "output_type": "execute_result"
    }
   ],
   "source": [
    "t*2"
   ]
  },
  {
   "cell_type": "code",
   "execution_count": 37,
   "id": "317833ef-36df-432d-9633-321735581319",
   "metadata": {},
   "outputs": [
    {
     "data": {
      "text/plain": [
       "0"
      ]
     },
     "execution_count": 37,
     "metadata": {},
     "output_type": "execute_result"
    }
   ],
   "source": [
    "t.index(\"eshwar\")"
   ]
  },
  {
   "cell_type": "code",
   "execution_count": 38,
   "id": "0c7c44e5-0f85-46bb-9cf0-75662414acd3",
   "metadata": {},
   "outputs": [
    {
     "data": {
      "text/plain": [
       "0"
      ]
     },
     "execution_count": 38,
     "metadata": {},
     "output_type": "execute_result"
    }
   ],
   "source": [
    "t.count(0)"
   ]
  },
  {
   "cell_type": "code",
   "execution_count": 40,
   "id": "6986f64f-bec4-42ea-aa81-3a727252e48f",
   "metadata": {},
   "outputs": [
    {
     "data": {
      "text/plain": [
       "1"
      ]
     },
     "execution_count": 40,
     "metadata": {},
     "output_type": "execute_result"
    }
   ],
   "source": [
    "t.count(\"eshwar\")"
   ]
  },
  {
   "cell_type": "code",
   "execution_count": 41,
   "id": "1dd33779-72b2-46df-b2ce-77f9a8da507c",
   "metadata": {},
   "outputs": [
    {
     "data": {
      "text/plain": [
       "('eshwar', 45.52, 45, (45+6j), True)"
      ]
     },
     "execution_count": 41,
     "metadata": {},
     "output_type": "execute_result"
    }
   ],
   "source": [
    "t"
   ]
  },
  {
   "cell_type": "code",
   "execution_count": 43,
   "id": "7151e925-8dae-4e64-99db-8608f61ba521",
   "metadata": {},
   "outputs": [
    {
     "data": {
      "text/plain": [
       "1"
      ]
     },
     "execution_count": 43,
     "metadata": {},
     "output_type": "execute_result"
    }
   ],
   "source": [
    "t.count(45.52)"
   ]
  },
  {
   "cell_type": "code",
   "execution_count": 44,
   "id": "8a4a96b4-ca86-47c9-8a85-338171e6eecd",
   "metadata": {},
   "outputs": [
    {
     "data": {
      "text/plain": [
       "1"
      ]
     },
     "execution_count": 44,
     "metadata": {},
     "output_type": "execute_result"
    }
   ],
   "source": [
    "t.count(\"eshwar\")"
   ]
  },
  {
   "cell_type": "code",
   "execution_count": 52,
   "id": "c48cd928-3959-4995-a373-d2cc44749065",
   "metadata": {},
   "outputs": [],
   "source": [
    "t=((45,48,78,9),(\"eshwar\"),(4,5,5))"
   ]
  },
  {
   "cell_type": "code",
   "execution_count": 53,
   "id": "513d1492-6d43-42b8-b5a4-5e0ddab1349b",
   "metadata": {},
   "outputs": [
    {
     "data": {
      "text/plain": [
       "((45, 48, 78, 9), 'eshwar', (4, 5, 5))"
      ]
     },
     "execution_count": 53,
     "metadata": {},
     "output_type": "execute_result"
    }
   ],
   "source": [
    "t"
   ]
  },
  {
   "cell_type": "code",
   "execution_count": 54,
   "id": "ad8cf556-70f2-4b26-a5df-4170876cffad",
   "metadata": {},
   "outputs": [],
   "source": [
    "t1=[1,5,4,4,58,8],(\"esdfghj\")"
   ]
  },
  {
   "cell_type": "code",
   "execution_count": 55,
   "id": "f8aa3be7-8fc1-4dce-be1a-1794ddd8d819",
   "metadata": {},
   "outputs": [
    {
     "data": {
      "text/plain": [
       "([1, 5, 4, 4, 58, 8], 'esdfghj')"
      ]
     },
     "execution_count": 55,
     "metadata": {},
     "output_type": "execute_result"
    }
   ],
   "source": [
    "t1"
   ]
  },
  {
   "cell_type": "code",
   "execution_count": 56,
   "id": "8114c0fc-f489-408f-afdb-5af9ef041a16",
   "metadata": {},
   "outputs": [
    {
     "data": {
      "text/plain": [
       "[1, 5, 4, 4, 58, 8]"
      ]
     },
     "execution_count": 56,
     "metadata": {},
     "output_type": "execute_result"
    }
   ],
   "source": [
    "t1[0]"
   ]
  },
  {
   "cell_type": "code",
   "execution_count": 57,
   "id": "3bfae0f5-0a2d-4721-a589-fd7c0b46475b",
   "metadata": {},
   "outputs": [],
   "source": [
    "t1[0][2]=\"eshwar\""
   ]
  },
  {
   "cell_type": "code",
   "execution_count": 58,
   "id": "877cf388-0adb-4236-a3a9-406d84b0937d",
   "metadata": {},
   "outputs": [
    {
     "data": {
      "text/plain": [
       "[1, 5, 'eshwar', 4, 58, 8]"
      ]
     },
     "execution_count": 58,
     "metadata": {},
     "output_type": "execute_result"
    }
   ],
   "source": [
    "t1[0]"
   ]
  },
  {
   "cell_type": "code",
   "execution_count": 59,
   "id": "934cf180-1fdf-4b12-9f62-c8f0ce0019dc",
   "metadata": {},
   "outputs": [],
   "source": [
    "l=[1,5,5,4,7,8,8,5,8,8,8,58,5,5,7,7,6,5,5]"
   ]
  },
  {
   "cell_type": "code",
   "execution_count": 61,
   "id": "e34daaf6-760c-4059-b0d5-10d80495dce8",
   "metadata": {},
   "outputs": [
    {
     "data": {
      "text/plain": [
       "{1, 4, 5, 6, 7, 8, 58}"
      ]
     },
     "execution_count": 61,
     "metadata": {},
     "output_type": "execute_result"
    }
   ],
   "source": [
    "set(l)"
   ]
  },
  {
   "cell_type": "code",
   "execution_count": 62,
   "id": "610f4796-2b6f-47b3-a32a-e83771130631",
   "metadata": {},
   "outputs": [],
   "source": [
    "s={}"
   ]
  },
  {
   "cell_type": "code",
   "execution_count": 63,
   "id": "ebcfef22-a69a-4776-8c71-41db0642f4e1",
   "metadata": {},
   "outputs": [
    {
     "data": {
      "text/plain": [
       "dict"
      ]
     },
     "execution_count": 63,
     "metadata": {},
     "output_type": "execute_result"
    }
   ],
   "source": [
    "type(s)"
   ]
  },
  {
   "cell_type": "code",
   "execution_count": 64,
   "id": "f7d0bb27-c99d-49e6-8602-1c46ec3f674b",
   "metadata": {},
   "outputs": [],
   "source": [
    "s1={2,3,4}"
   ]
  },
  {
   "cell_type": "code",
   "execution_count": 65,
   "id": "928d0d0f-babe-4a63-b656-ee3c0a3328a0",
   "metadata": {},
   "outputs": [
    {
     "data": {
      "text/plain": [
       "set"
      ]
     },
     "execution_count": 65,
     "metadata": {},
     "output_type": "execute_result"
    }
   ],
   "source": [
    "type(s1)"
   ]
  },
  {
   "cell_type": "code",
   "execution_count": 69,
   "id": "ff9a98dd-3a08-48d3-a0b3-31fcfb9576a8",
   "metadata": {},
   "outputs": [],
   "source": [
    "s2={1,5,5,5,54,8,8,62,2,8}"
   ]
  },
  {
   "cell_type": "code",
   "execution_count": 70,
   "id": "cc353d88-c83f-4d48-97fa-e6d81766498c",
   "metadata": {},
   "outputs": [
    {
     "data": {
      "text/plain": [
       "{1, 2, 5, 8, 54, 62}"
      ]
     },
     "execution_count": 70,
     "metadata": {},
     "output_type": "execute_result"
    }
   ],
   "source": [
    "s2"
   ]
  },
  {
   "cell_type": "code",
   "execution_count": 71,
   "id": "fd2352be-61c3-4e26-9bb3-5610f4eeb7b1",
   "metadata": {},
   "outputs": [
    {
     "ename": "TypeError",
     "evalue": "'set' object is not subscriptable",
     "output_type": "error",
     "traceback": [
      "\u001b[1;31m---------------------------------------------------------------------------\u001b[0m",
      "\u001b[1;31mTypeError\u001b[0m                                 Traceback (most recent call last)",
      "Cell \u001b[1;32mIn[71], line 1\u001b[0m\n\u001b[1;32m----> 1\u001b[0m \u001b[43ms2\u001b[49m\u001b[43m[\u001b[49m\u001b[38;5;241;43m0\u001b[39;49m\u001b[43m]\u001b[49m\n",
      "\u001b[1;31mTypeError\u001b[0m: 'set' object is not subscriptable"
     ]
    }
   ],
   "source": [
    "s2[0]"
   ]
  },
  {
   "cell_type": "code",
   "execution_count": 72,
   "id": "9db3bf09-c464-4c2e-8443-73bd9b91ad2b",
   "metadata": {},
   "outputs": [
    {
     "data": {
      "text/plain": [
       "[1, 2, 5, 54, 8, 62]"
      ]
     },
     "execution_count": 72,
     "metadata": {},
     "output_type": "execute_result"
    }
   ],
   "source": [
    "list(s2)"
   ]
  },
  {
   "cell_type": "code",
   "execution_count": 73,
   "id": "1c2cd502-5f3d-49df-b492-aad91bb74bcd",
   "metadata": {},
   "outputs": [
    {
     "data": {
      "text/plain": [
       "1"
      ]
     },
     "execution_count": 73,
     "metadata": {},
     "output_type": "execute_result"
    }
   ],
   "source": [
    "list(s2)[0]"
   ]
  },
  {
   "cell_type": "code",
   "execution_count": 75,
   "id": "01e14e3a-1ac2-4631-a86c-992dae24b305",
   "metadata": {},
   "outputs": [],
   "source": [
    "s2.add(5222)"
   ]
  },
  {
   "cell_type": "code",
   "execution_count": 76,
   "id": "0f0ea352-0ca9-4377-8eff-17353245e076",
   "metadata": {},
   "outputs": [
    {
     "data": {
      "text/plain": [
       "{1, 2, 5, 8, 54, 62, 5222}"
      ]
     },
     "execution_count": 76,
     "metadata": {},
     "output_type": "execute_result"
    }
   ],
   "source": [
    "s2"
   ]
  },
  {
   "cell_type": "code",
   "execution_count": 78,
   "id": "c4c12aeb-2855-4850-95aa-5c3651c0c56b",
   "metadata": {},
   "outputs": [],
   "source": [
    "s2.add(\"add\")"
   ]
  },
  {
   "cell_type": "code",
   "execution_count": 79,
   "id": "ade45a12-e681-48b2-b2a9-fe2e6e9625b4",
   "metadata": {},
   "outputs": [
    {
     "data": {
      "text/plain": [
       "{1, 2, 5, 5222, 54, 62, 8, 'add'}"
      ]
     },
     "execution_count": 79,
     "metadata": {},
     "output_type": "execute_result"
    }
   ],
   "source": [
    "s2"
   ]
  },
  {
   "cell_type": "code",
   "execution_count": 80,
   "id": "ad8ebe60-67a0-428e-9bc0-621458dcdf11",
   "metadata": {},
   "outputs": [
    {
     "ename": "TypeError",
     "evalue": "unhashable type: 'list'",
     "output_type": "error",
     "traceback": [
      "\u001b[1;31m---------------------------------------------------------------------------\u001b[0m",
      "\u001b[1;31mTypeError\u001b[0m                                 Traceback (most recent call last)",
      "Cell \u001b[1;32mIn[80], line 1\u001b[0m\n\u001b[1;32m----> 1\u001b[0m \u001b[43ms2\u001b[49m\u001b[38;5;241;43m.\u001b[39;49m\u001b[43madd\u001b[49m\u001b[43m(\u001b[49m\u001b[43m[\u001b[49m\u001b[38;5;241;43m1\u001b[39;49m\u001b[43m,\u001b[49m\u001b[38;5;241;43m2\u001b[39;49m\u001b[43m,\u001b[49m\u001b[38;5;241;43m4\u001b[39;49m\u001b[43m,\u001b[49m\u001b[38;5;241;43m4\u001b[39;49m\u001b[43m,\u001b[49m\u001b[43m]\u001b[49m\u001b[43m)\u001b[49m\n",
      "\u001b[1;31mTypeError\u001b[0m: unhashable type: 'list'"
     ]
    }
   ],
   "source": [
    "s2.add([1,2,4,4,])"
   ]
  },
  {
   "cell_type": "code",
   "execution_count": 82,
   "id": "f896228e-39d9-4381-81e2-af8de42f5dbf",
   "metadata": {},
   "outputs": [
    {
     "ename": "TypeError",
     "evalue": "unhashable type: 'list'",
     "output_type": "error",
     "traceback": [
      "\u001b[1;31m---------------------------------------------------------------------------\u001b[0m",
      "\u001b[1;31mTypeError\u001b[0m                                 Traceback (most recent call last)",
      "Cell \u001b[1;32mIn[82], line 1\u001b[0m\n\u001b[1;32m----> 1\u001b[0m {[\u001b[38;5;241m5\u001b[39m,\u001b[38;5;241m5\u001b[39m,\u001b[38;5;241m5\u001b[39m,\u001b[38;5;241m5\u001b[39m], \u001b[38;5;241m5\u001b[39m,\u001b[38;5;241m4\u001b[39m,\u001b[38;5;241m4\u001b[39m,\u001b[38;5;241m4\u001b[39m,\u001b[38;5;241m48\u001b[39m,\u001b[38;5;241m8\u001b[39m,\u001b[38;5;241m8\u001b[39m}\n",
      "\u001b[1;31mTypeError\u001b[0m: unhashable type: 'list'"
     ]
    }
   ],
   "source": [
    "{[5,5,5,5], 5,4,4,4,48,8,8}"
   ]
  },
  {
   "cell_type": "code",
   "execution_count": 83,
   "id": "14341722-dff7-4394-afe8-42e96c10789e",
   "metadata": {},
   "outputs": [
    {
     "data": {
      "text/plain": [
       "{(3, 5, 4, 60), 2, 4}"
      ]
     },
     "execution_count": 83,
     "metadata": {},
     "output_type": "execute_result"
    }
   ],
   "source": [
    "s={(3,5,4,60),2,4,4}"
   ]
  },
  {
   "cell_type": "code",
   "execution_count": 86,
   "id": "34b48638-64ae-4a2c-a402-7044329c2102",
   "metadata": {},
   "outputs": [
    {
     "data": {
      "text/plain": [
       "{}"
      ]
     },
     "execution_count": 86,
     "metadata": {},
     "output_type": "execute_result"
    }
   ],
   "source": [
    "s"
   ]
  },
  {
   "cell_type": "code",
   "execution_count": 85,
   "id": "f7585850-2060-47e8-ba37-1e431e901438",
   "metadata": {},
   "outputs": [
    {
     "ename": "AttributeError",
     "evalue": "'dict' object has no attribute 'remove'",
     "output_type": "error",
     "traceback": [
      "\u001b[1;31m---------------------------------------------------------------------------\u001b[0m",
      "\u001b[1;31mAttributeError\u001b[0m                            Traceback (most recent call last)",
      "Cell \u001b[1;32mIn[85], line 1\u001b[0m\n\u001b[1;32m----> 1\u001b[0m \u001b[43ms\u001b[49m\u001b[38;5;241;43m.\u001b[39;49m\u001b[43mremove\u001b[49m(\u001b[38;5;241m4\u001b[39m)\n",
      "\u001b[1;31mAttributeError\u001b[0m: 'dict' object has no attribute 'remove'"
     ]
    }
   ],
   "source": [
    "s.remove(4)"
   ]
  },
  {
   "cell_type": "code",
   "execution_count": 89,
   "id": "bad8254b-1886-4692-84f1-dc53f24670ee",
   "metadata": {},
   "outputs": [],
   "source": [
    "s={(3, 5, 4, 60), 2, 4}"
   ]
  },
  {
   "cell_type": "code",
   "execution_count": 90,
   "id": "9b67593f-f05d-4a9c-91b7-645c5c159f27",
   "metadata": {},
   "outputs": [
    {
     "data": {
      "text/plain": [
       "{(3, 5, 4, 60), 2, 4}"
      ]
     },
     "execution_count": 90,
     "metadata": {},
     "output_type": "execute_result"
    }
   ],
   "source": [
    "s"
   ]
  },
  {
   "cell_type": "code",
   "execution_count": 91,
   "id": "214b4ea4-4752-42c6-bca5-6e2d8484a55d",
   "metadata": {},
   "outputs": [],
   "source": [
    "s.remove(4)"
   ]
  },
  {
   "cell_type": "code",
   "execution_count": 92,
   "id": "3a4dbb04-02c5-4219-b21c-733edc929522",
   "metadata": {},
   "outputs": [
    {
     "data": {
      "text/plain": [
       "{(3, 5, 4, 60), 2}"
      ]
     },
     "execution_count": 92,
     "metadata": {},
     "output_type": "execute_result"
    }
   ],
   "source": [
    "s"
   ]
  },
  {
   "cell_type": "code",
   "execution_count": 95,
   "id": "f5b8d611-5ba6-48c2-8e71-26e2420895fb",
   "metadata": {},
   "outputs": [],
   "source": [
    "s.discard(2)"
   ]
  },
  {
   "cell_type": "code",
   "execution_count": 96,
   "id": "9bccf67b-b206-4a8b-b1e2-bfd18dd320ad",
   "metadata": {},
   "outputs": [
    {
     "data": {
      "text/plain": [
       "{(3, 5, 4, 60)}"
      ]
     },
     "execution_count": 96,
     "metadata": {},
     "output_type": "execute_result"
    }
   ],
   "source": [
    "s"
   ]
  },
  {
   "cell_type": "code",
   "execution_count": 99,
   "id": "07ebd888-5760-4708-b443-624d6f441ea0",
   "metadata": {},
   "outputs": [
    {
     "data": {
      "text/plain": [
       "{'sUdh', 'sudh'}"
      ]
     },
     "execution_count": 99,
     "metadata": {},
     "output_type": "execute_result"
    }
   ],
   "source": [
    "{\"sudh\" ,\"sUdh\"}"
   ]
  },
  {
   "cell_type": "code",
   "execution_count": 102,
   "id": "89f182ee-64df-4f5b-bf74-ed351907fab1",
   "metadata": {},
   "outputs": [],
   "source": [
    " s={4,5,5,5,5,78,45, 7,8,52,54,5,5,\"esh\",\"esh\"}"
   ]
  },
  {
   "cell_type": "code",
   "execution_count": 103,
   "id": "5f98716a-15b0-4de1-a282-a4765904482e",
   "metadata": {},
   "outputs": [
    {
     "data": {
      "text/plain": [
       "{4, 45, 5, 52, 54, 7, 78, 8, 'esh'}"
      ]
     },
     "execution_count": 103,
     "metadata": {},
     "output_type": "execute_result"
    }
   ],
   "source": [
    "s"
   ]
  },
  {
   "cell_type": "code",
   "execution_count": 104,
   "id": "ce22d65c-bf51-4345-9ec3-a0886894cd0a",
   "metadata": {},
   "outputs": [],
   "source": [
    "d={}"
   ]
  },
  {
   "cell_type": "code",
   "execution_count": 105,
   "id": "e20acfb0-2715-49d8-a620-c4d726ebba13",
   "metadata": {},
   "outputs": [
    {
     "data": {
      "text/plain": [
       "dict"
      ]
     },
     "execution_count": 105,
     "metadata": {},
     "output_type": "execute_result"
    }
   ],
   "source": [
    "type(d)"
   ]
  },
  {
   "cell_type": "code",
   "execution_count": 106,
   "id": "2e097f26-5c04-4727-9478-5fc5d147b0fa",
   "metadata": {},
   "outputs": [],
   "source": [
    "d={4:\"esh\"}\n"
   ]
  },
  {
   "cell_type": "code",
   "execution_count": 108,
   "id": "1c5acb21-fd86-4aa2-80b1-9af5dc5b88f6",
   "metadata": {},
   "outputs": [],
   "source": [
    "d1={\"key1\":111,\"key2\":\"esh\",45:[3,3,3]}\n"
   ]
  },
  {
   "cell_type": "code",
   "execution_count": 109,
   "id": "2266fcf8-0d5d-476f-97bb-a0e1e5403be9",
   "metadata": {},
   "outputs": [],
   "source": [
    "l=[1,2,3,4,5] \n"
   ]
  },
  {
   "cell_type": "code",
   "execution_count": 110,
   "id": "c7d3bc3f-d5bc-4a5b-8e2a-f392b96ed19d",
   "metadata": {},
   "outputs": [
    {
     "data": {
      "text/plain": [
       "{'key1': 111, 'key2': 'esh', 45: [3, 3, 3]}"
      ]
     },
     "execution_count": 110,
     "metadata": {},
     "output_type": "execute_result"
    }
   ],
   "source": [
    "d1"
   ]
  },
  {
   "cell_type": "code",
   "execution_count": 111,
   "id": "b9f03cd3-9aa2-4a4e-9435-d398b5b84284",
   "metadata": {},
   "outputs": [
    {
     "data": {
      "text/plain": [
       "1"
      ]
     },
     "execution_count": 111,
     "metadata": {},
     "output_type": "execute_result"
    }
   ],
   "source": [
    "l[0]"
   ]
  },
  {
   "cell_type": "code",
   "execution_count": 112,
   "id": "92264e7e-1722-482f-8164-2ed1ca006675",
   "metadata": {},
   "outputs": [
    {
     "data": {
      "text/plain": [
       "111"
      ]
     },
     "execution_count": 112,
     "metadata": {},
     "output_type": "execute_result"
    }
   ],
   "source": [
    "d1[\"key1\"]"
   ]
  },
  {
   "cell_type": "code",
   "execution_count": 113,
   "id": "93429591-f1e5-4cc5-8beb-bb2eebd121e2",
   "metadata": {},
   "outputs": [
    {
     "data": {
      "text/plain": [
       "[3, 3, 3]"
      ]
     },
     "execution_count": 113,
     "metadata": {},
     "output_type": "execute_result"
    }
   ],
   "source": [
    "d1[45]"
   ]
  },
  {
   "cell_type": "code",
   "execution_count": 114,
   "id": "103904c0-c347-4091-a977-9f2d75416067",
   "metadata": {},
   "outputs": [
    {
     "data": {
      "text/plain": [
       "'esh'"
      ]
     },
     "execution_count": 114,
     "metadata": {},
     "output_type": "execute_result"
    }
   ],
   "source": [
    "d1[\"key2\"]"
   ]
  },
  {
   "cell_type": "code",
   "execution_count": 116,
   "id": "afcc325b-30c5-4d20-afb3-8a264d85abdf",
   "metadata": {},
   "outputs": [],
   "source": [
    "d={\"key1\":[\"dude\",4,5,58,4]}"
   ]
  },
  {
   "cell_type": "code",
   "execution_count": null,
   "id": "84665e7d-2fc6-43ca-8fb7-3622f8b7355a",
   "metadata": {},
   "outputs": [],
   "source": []
  }
 ],
 "metadata": {
  "kernelspec": {
   "display_name": "Python 3 (ipykernel)",
   "language": "python",
   "name": "python3"
  },
  "language_info": {
   "codemirror_mode": {
    "name": "ipython",
    "version": 3
   },
   "file_extension": ".py",
   "mimetype": "text/x-python",
   "name": "python",
   "nbconvert_exporter": "python",
   "pygments_lexer": "ipython3",
   "version": "3.12.4"
  }
 },
 "nbformat": 4,
 "nbformat_minor": 5
}
